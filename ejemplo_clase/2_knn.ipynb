{
 "cells": [
  {
   "cell_type": "markdown",
   "metadata": {
    "id": "67RBrvkUviuj"
   },
   "source": [
    "<a href=\"https://www.inove.com.ar\"><img src=\"https://raw.githubusercontent.com/InoveAlumnos/dataset_analytics_python/master/images/PA%20Banner.png\" width=\"1000\" align=\"center\"></a>\n",
    "\n",
    "\n",
    "# Ejercicio de clasificación con vecinos cercanos (KNN)\n",
    "\n",
    "Ejemplo de clasificación utilizando vecinos cercanos para la clasificación de drogadas que debería tomar un pasiente según su historial clínico<br>\n",
    "\n",
    "v1.1"
   ]
  },
  {
   "cell_type": "code",
   "execution_count": null,
   "metadata": {
    "executionInfo": {
     "elapsed": 982,
     "status": "ok",
     "timestamp": 1604369980730,
     "user": {
      "displayName": "inove",
      "photoUrl": "https://lh3.googleusercontent.com/a-/AOh14GhXN9lpkKFLA5gp8tW9cD3CZ1yGa9DUy9HZOgZm=s64",
      "userId": "03494171924251581304"
     },
     "user_tz": 180
    },
    "id": "y2sSeyEovSw-"
   },
   "outputs": [],
   "source": [
    "import os\n",
    "import platform\n",
    "\n",
    "import numpy as np\n",
    "import matplotlib.pyplot as plt\n",
    "import seaborn as sns\n",
    "import pandas as pd"
   ]
  },
  {
   "cell_type": "markdown",
   "metadata": {
    "id": "7Szo7P_3v00C"
   },
   "source": [
    "# Recolectar datos\n",
    "<img src=\"https://raw.githubusercontent.com/InoveAlumnos/dataset_analytics_python/master/images/Pipeline1.png\" width=\"1000\" align=\"middle\">"
   ]
  },
  {
   "cell_type": "code",
   "execution_count": null,
   "metadata": {
    "colab": {
     "base_uri": "https://localhost:8080/"
    },
    "executionInfo": {
     "elapsed": 1695,
     "status": "ok",
     "timestamp": 1604369981463,
     "user": {
      "displayName": "inove",
      "photoUrl": "https://lh3.googleusercontent.com/a-/AOh14GhXN9lpkKFLA5gp8tW9cD3CZ1yGa9DUy9HZOgZm=s64",
      "userId": "03494171924251581304"
     },
     "user_tz": 180
    },
    "id": "HnVpNGuAvyFi",
    "outputId": "d4dbf09a-01b0-44f3-fdec-e162e8c83c90"
   },
   "outputs": [],
   "source": [
    "if os.access('Telecust1.csv', os.F_OK) is False:\n",
    "    if platform.system() == 'Windows':\n",
    "        !curl https://raw.githubusercontent.com/InoveAlumnos/dataset_analytics_python/master/Telecust1.csv > Telecust1.csv\n",
    "    else:\n",
    "        !wget Telecust1.csv https://raw.githubusercontent.com/InoveAlumnos/dataset_analytics_python/master/Telecust1.csv"
   ]
  },
  {
   "cell_type": "markdown",
   "metadata": {
    "id": "BbNSgxdfw0ix"
   },
   "source": [
    "### `Telecust1.csv.csv`:\n",
    "El dataset **`Telecust1.csv.csv`** contiene diferentes tipos de clientes que consumen un servicio de telecomunicación, los cuales deseamos clasificar en 4 categorias.<br> [Dataset source](https://www.kaggle.com/prathamtripathi/customersegmentation)\n",
    "\n",
    "- **region** --> region, ejemplo 2\n",
    "- **tenure** --> grado permanencia, ejemplo 40\n",
    "- **age** --> edad, ejemplo 52\n",
    "- **income** --> ingresos o sueldo, ejemplo 50 (un número que no representa una moneda real\n",
    "- **marital** --> si está casado o no\n",
    "- **address** --> dirección\n",
    "- **employ** --> empleo\n",
    "- **retire** --> si está retirado o no\n",
    "- **genero** --> 0 o 1 (no se sabe cual es cual)\n"
   ]
  },
  {
   "cell_type": "markdown",
   "metadata": {
    "id": "NHHsGe1Qypde"
   },
   "source": [
    "# Procesar datos\n",
    "<img src=\"https://raw.githubusercontent.com/InoveAlumnos/dataset_analytics_python/master/images/Pipeline2.png\" width=\"1000\" align=\"middle\">"
   ]
  },
  {
   "cell_type": "code",
   "execution_count": null,
   "metadata": {
    "colab": {
     "base_uri": "https://localhost:8080/",
     "height": 348
    },
    "executionInfo": {
     "elapsed": 1683,
     "status": "ok",
     "timestamp": 1604369981465,
     "user": {
      "displayName": "inove",
      "photoUrl": "https://lh3.googleusercontent.com/a-/AOh14GhXN9lpkKFLA5gp8tW9cD3CZ1yGa9DUy9HZOgZm=s64",
      "userId": "03494171924251581304"
     },
     "user_tz": 180
    },
    "id": "uvzaKBMbyoiy",
    "outputId": "fc344fea-cfa7-4159-c44e-614456354597"
   },
   "outputs": [],
   "source": [
    "df = pd.read_csv(\"Telecust1.csv\")\n",
    "des = df.describe()\n",
    "des.loc['Nan'] = df.isna().sum()\n",
    "des.loc['%Nan'] = (df.isna().mean())*100\n",
    "des"
   ]
  },
  {
   "cell_type": "code",
   "execution_count": null,
   "metadata": {
    "colab": {
     "base_uri": "https://localhost:8080/",
     "height": 198
    },
    "executionInfo": {
     "elapsed": 1665,
     "status": "ok",
     "timestamp": 1604369981466,
     "user": {
      "displayName": "inove",
      "photoUrl": "https://lh3.googleusercontent.com/a-/AOh14GhXN9lpkKFLA5gp8tW9cD3CZ1yGa9DUy9HZOgZm=s64",
      "userId": "03494171924251581304"
     },
     "user_tz": 180
    },
    "id": "Cw9HbE88y3wu",
    "outputId": "94173028-875a-4da8-f310-92506e177f78"
   },
   "outputs": [],
   "source": [
    "df.head()"
   ]
  },
  {
   "cell_type": "code",
   "execution_count": null,
   "metadata": {
    "colab": {
     "base_uri": "https://localhost:8080/"
    },
    "executionInfo": {
     "elapsed": 1652,
     "status": "ok",
     "timestamp": 1604369981467,
     "user": {
      "displayName": "inove",
      "photoUrl": "https://lh3.googleusercontent.com/a-/AOh14GhXN9lpkKFLA5gp8tW9cD3CZ1yGa9DUy9HZOgZm=s64",
      "userId": "03494171924251581304"
     },
     "user_tz": 180
    },
    "id": "LirgXKpiy8dr",
    "outputId": "02277323-6e9c-404b-b47d-2a8c78b2fc8c"
   },
   "outputs": [],
   "source": [
    "print('Cantidad de datos en observacion:', df.shape[0])"
   ]
  },
  {
   "cell_type": "markdown",
   "metadata": {
    "id": "0BnzYdlRzBxz"
   },
   "source": [
    "# Explorar datos\n",
    "<img src=\"https://raw.githubusercontent.com/InoveAlumnos/dataset_analytics_python/master/images/Pipeline3.png\" width=\"1000\" align=\"middle\">"
   ]
  },
  {
   "cell_type": "code",
   "execution_count": null,
   "metadata": {
    "colab": {
     "base_uri": "https://localhost:8080/",
     "height": 288
    },
    "executionInfo": {
     "elapsed": 1642,
     "status": "ok",
     "timestamp": 1604369981469,
     "user": {
      "displayName": "inove",
      "photoUrl": "https://lh3.googleusercontent.com/a-/AOh14GhXN9lpkKFLA5gp8tW9cD3CZ1yGa9DUy9HZOgZm=s64",
      "userId": "03494171924251581304"
     },
     "user_tz": 180
    },
    "id": "X2w_eW5QI-hf",
    "outputId": "4c6e44d9-b8ad-4baf-a157-55632970a22a"
   },
   "outputs": [],
   "source": [
    "df.describe()"
   ]
  },
  {
   "cell_type": "code",
   "execution_count": null,
   "metadata": {
    "colab": {
     "base_uri": "https://localhost:8080/"
    },
    "executionInfo": {
     "elapsed": 1629,
     "status": "ok",
     "timestamp": 1604369981470,
     "user": {
      "displayName": "inove",
      "photoUrl": "https://lh3.googleusercontent.com/a-/AOh14GhXN9lpkKFLA5gp8tW9cD3CZ1yGa9DUy9HZOgZm=s64",
      "userId": "03494171924251581304"
     },
     "user_tz": 180
    },
    "id": "yH6oDykAzBMG",
    "outputId": "7ec060d9-8bcd-4b34-f4a9-82ec5936a9e4"
   },
   "outputs": [],
   "source": [
    "# Exploramos que tan balanceado está el dataset,\n",
    "# como está repartida las categorias entre los clientes actuales\n",
    "df['custcat'].value_counts()"
   ]
  },
  {
   "cell_type": "code",
   "execution_count": null,
   "metadata": {
    "colab": {
     "base_uri": "https://localhost:8080/",
     "height": 279
    },
    "executionInfo": {
     "elapsed": 1936,
     "status": "ok",
     "timestamp": 1604369981792,
     "user": {
      "displayName": "inove",
      "photoUrl": "https://lh3.googleusercontent.com/a-/AOh14GhXN9lpkKFLA5gp8tW9cD3CZ1yGa9DUy9HZOgZm=s64",
      "userId": "03494171924251581304"
     },
     "user_tz": 180
    },
    "id": "u5cQJRWdzTk3",
    "outputId": "7cfd1064-7e10-4061-ff7e-1e07bd989e72"
   },
   "outputs": [],
   "source": [
    "ax = sns.countplot(data=df, x=\"custcat\")"
   ]
  },
  {
   "cell_type": "markdown",
   "metadata": {
    "id": "YqVWUXPm0op-"
   },
   "source": [
    "Se puede ver que el dataset está bastante balanceado, no habrá una tendencia marcada"
   ]
  },
  {
   "cell_type": "code",
   "execution_count": null,
   "metadata": {
    "colab": {
     "base_uri": "https://localhost:8080/",
     "height": 407
    },
    "executionInfo": {
     "elapsed": 1920,
     "status": "ok",
     "timestamp": 1604369981795,
     "user": {
      "displayName": "inove",
      "photoUrl": "https://lh3.googleusercontent.com/a-/AOh14GhXN9lpkKFLA5gp8tW9cD3CZ1yGa9DUy9HZOgZm=s64",
      "userId": "03494171924251581304"
     },
     "user_tz": 180
    },
    "id": "6f1b4PBcJAWU",
    "outputId": "68d16a9c-26ce-401d-8e87-527536d58576"
   },
   "outputs": [],
   "source": [
    "# Nos quedamos con aquellas columnas que podemos entender su relacion con el objetivo\n",
    "df_clean = df[['tenure', 'age', 'income', 'marital', 'retire', 'gender', 'custcat']]\n",
    "df_clean"
   ]
  },
  {
   "cell_type": "markdown",
   "metadata": {
    "id": "ZdfLMthm0yyY"
   },
   "source": [
    "#### Normalización de los datos"
   ]
  },
  {
   "cell_type": "markdown",
   "metadata": {
    "id": "nqEKDZw0KETM"
   },
   "source": [
    "Analizar cual es la distribución de los datos numéricos\n",
    "- tenure\n",
    "- age\n",
    "- income"
   ]
  },
  {
   "cell_type": "code",
   "execution_count": null,
   "metadata": {
    "colab": {
     "base_uri": "https://localhost:8080/",
     "height": 387
    },
    "executionInfo": {
     "elapsed": 2271,
     "status": "ok",
     "timestamp": 1604369982163,
     "user": {
      "displayName": "inove",
      "photoUrl": "https://lh3.googleusercontent.com/a-/AOh14GhXN9lpkKFLA5gp8tW9cD3CZ1yGa9DUy9HZOgZm=s64",
      "userId": "03494171924251581304"
     },
     "user_tz": 180
    },
    "id": "GJlDmX_F1ksA",
    "outputId": "b0654330-5cf9-465a-bdec-0a53e3e367b2"
   },
   "outputs": [],
   "source": [
    "sns.displot(data=df_clean, x='age')"
   ]
  },
  {
   "cell_type": "code",
   "execution_count": null,
   "metadata": {
    "colab": {
     "base_uri": "https://localhost:8080/",
     "height": 387
    },
    "executionInfo": {
     "elapsed": 2571,
     "status": "ok",
     "timestamp": 1604369982478,
     "user": {
      "displayName": "inove",
      "photoUrl": "https://lh3.googleusercontent.com/a-/AOh14GhXN9lpkKFLA5gp8tW9cD3CZ1yGa9DUy9HZOgZm=s64",
      "userId": "03494171924251581304"
     },
     "user_tz": 180
    },
    "id": "_X2CcMqdJ7z6",
    "outputId": "a2c468c5-f3b2-4bd3-abdd-bb6355206cd6"
   },
   "outputs": [],
   "source": [
    "sns.displot(data=df_clean, x='tenure')"
   ]
  },
  {
   "cell_type": "code",
   "execution_count": null,
   "metadata": {
    "colab": {
     "base_uri": "https://localhost:8080/",
     "height": 387
    },
    "executionInfo": {
     "elapsed": 3190,
     "status": "ok",
     "timestamp": 1604369983114,
     "user": {
      "displayName": "inove",
      "photoUrl": "https://lh3.googleusercontent.com/a-/AOh14GhXN9lpkKFLA5gp8tW9cD3CZ1yGa9DUy9HZOgZm=s64",
      "userId": "03494171924251581304"
     },
     "user_tz": 180
    },
    "id": "9xCksVi5J_V2",
    "outputId": "eec9ff79-76a3-4b36-9cdc-778684bed806"
   },
   "outputs": [],
   "source": [
    "sns.displot(data=df_clean, x='income')"
   ]
  },
  {
   "cell_type": "markdown",
   "metadata": {
    "id": "7d6BDobHKLHy"
   },
   "source": [
    "El \"ingreso\" sigue una distribución normal pero con muchos outliers, es por eso que no utilizaremos el MinMaxScaler sino que se utilizará el StandardScaler a pesar de que \"tenure\" no siga una distribución normal"
   ]
  },
  {
   "cell_type": "code",
   "execution_count": null,
   "metadata": {
    "colab": {
     "base_uri": "https://localhost:8080/",
     "height": 198
    },
    "executionInfo": {
     "elapsed": 3477,
     "status": "ok",
     "timestamp": 1604369983416,
     "user": {
      "displayName": "inove",
      "photoUrl": "https://lh3.googleusercontent.com/a-/AOh14GhXN9lpkKFLA5gp8tW9cD3CZ1yGa9DUy9HZOgZm=s64",
      "userId": "03494171924251581304"
     },
     "user_tz": 180
    },
    "id": "Zc6xNfbgKj4y",
    "outputId": "13b9cb2d-a282-417c-db29-3776df175a2d"
   },
   "outputs": [],
   "source": [
    "from sklearn.preprocessing import StandardScaler\n",
    "df_norm = df_clean.copy()\n",
    "age_scaler = StandardScaler()\n",
    "tenure_scaler = StandardScaler()\n",
    "income_scaler = StandardScaler()\n",
    "df_norm.loc[:, 'age'] = age_scaler.fit_transform(df[['age']])\n",
    "df_norm.loc[:, 'tenure'] = tenure_scaler.fit_transform(df[['tenure']])\n",
    "df_norm.loc[:, 'income'] = income_scaler.fit_transform(df[['income']])\n",
    "df_norm.head()"
   ]
  },
  {
   "cell_type": "markdown",
   "metadata": {
    "id": "7z_SuZlj3gbQ"
   },
   "source": [
    "# Entrenar modelo\n",
    "<img src=\"https://raw.githubusercontent.com/InoveAlumnos/dataset_analytics_python/master/images/Pipeline4.png\" width=\"1000\" align=\"middle\">"
   ]
  },
  {
   "cell_type": "markdown",
   "metadata": {
    "id": "ntY84fHj3q5q"
   },
   "source": [
    "El primer paso es obtener los datos que serán la entrada del sistema (X) y los datos que serán la salida del modelo estimador (y)"
   ]
  },
  {
   "cell_type": "code",
   "execution_count": null,
   "metadata": {
    "colab": {
     "base_uri": "https://localhost:8080/"
    },
    "executionInfo": {
     "elapsed": 3469,
     "status": "ok",
     "timestamp": 1604369983419,
     "user": {
      "displayName": "inove",
      "photoUrl": "https://lh3.googleusercontent.com/a-/AOh14GhXN9lpkKFLA5gp8tW9cD3CZ1yGa9DUy9HZOgZm=s64",
      "userId": "03494171924251581304"
     },
     "user_tz": 180
    },
    "id": "EIg2_OQ43fqZ",
    "outputId": "86900768-f6bd-416f-f799-ae25abd0e517"
   },
   "outputs": [],
   "source": [
    "X = df_norm.drop('custcat', axis=1).values\n",
    "y = df_norm['custcat'].values\n",
    "X.shape"
   ]
  },
  {
   "cell_type": "markdown",
   "metadata": {
    "id": "sbr-SnON4LuM"
   },
   "source": [
    "Siguiente paso es dividir el dataset en entrenamiento (train) y evaluación (test). Utilizaremos el criterio 70%30%"
   ]
  },
  {
   "cell_type": "code",
   "execution_count": null,
   "metadata": {
    "executionInfo": {
     "elapsed": 3467,
     "status": "ok",
     "timestamp": 1604369983420,
     "user": {
      "displayName": "inove",
      "photoUrl": "https://lh3.googleusercontent.com/a-/AOh14GhXN9lpkKFLA5gp8tW9cD3CZ1yGa9DUy9HZOgZm=s64",
      "userId": "03494171924251581304"
     },
     "user_tz": 180
    },
    "id": "BVD4YkjS4MW2"
   },
   "outputs": [],
   "source": [
    "from sklearn.model_selection import train_test_split\n",
    "# Fijamos un \"random_state\" constante para que siempre el dataset se parta de la misma forma\n",
    "# para poder repetir los ensayos\n",
    "X_train, X_test, y_train, y_test = train_test_split(X, y, test_size=0.3, random_state=42)"
   ]
  },
  {
   "cell_type": "code",
   "execution_count": null,
   "metadata": {
    "executionInfo": {
     "elapsed": 3469,
     "status": "ok",
     "timestamp": 1604369983424,
     "user": {
      "displayName": "inove",
      "photoUrl": "https://lh3.googleusercontent.com/a-/AOh14GhXN9lpkKFLA5gp8tW9cD3CZ1yGa9DUy9HZOgZm=s64",
      "userId": "03494171924251581304"
     },
     "user_tz": 180
    },
    "id": "FgF8oPBe7XMi"
   },
   "outputs": [],
   "source": [
    "# Creamos el modelo base\n",
    "class RandomBaseModel():\n",
    "    def __init__(self):\n",
    "        self.classes_ = [0, 1]\n",
    "    def fit(self,X, y):\n",
    "        self.classes_ = np.unique(y)\n",
    "        return None\n",
    "\n",
    "    def predict(self,X):\n",
    "        rand = np.random.randint(0, len(self.classes_), size=X.shape[0])\n",
    "        rand_clases = [self.classes_[x] for x in rand]\n",
    "        return np.asarray(rand_clases)"
   ]
  },
  {
   "cell_type": "code",
   "execution_count": null,
   "metadata": {
    "colab": {
     "base_uri": "https://localhost:8080/"
    },
    "executionInfo": {
     "elapsed": 3457,
     "status": "ok",
     "timestamp": 1604369983425,
     "user": {
      "displayName": "inove",
      "photoUrl": "https://lh3.googleusercontent.com/a-/AOh14GhXN9lpkKFLA5gp8tW9cD3CZ1yGa9DUy9HZOgZm=s64",
      "userId": "03494171924251581304"
     },
     "user_tz": 180
    },
    "id": "aeYi3FSi7bGW",
    "outputId": "d805fffc-47b8-4120-9cb9-905edbe3f0f3"
   },
   "outputs": [],
   "source": [
    "# Obtener la salida según el modelo base\n",
    "random_model = RandomBaseModel()\n",
    "random_model.fit(X_train, y_train)\n",
    "y_hat_base = random_model.predict(X_test)\n",
    "random_model.classes_"
   ]
  },
  {
   "cell_type": "markdown",
   "metadata": {
    "id": "wBh2fSnT4SED"
   },
   "source": [
    "#### Crear un modelo de clasificación con vecinos cercanos (KNN)\n",
    "Parámetros\n",
    "- n_neighbors --> (k) número de vecinos cercanos"
   ]
  },
  {
   "cell_type": "code",
   "execution_count": null,
   "metadata": {
    "colab": {
     "base_uri": "https://localhost:8080/",
     "height": 315
    },
    "executionInfo": {
     "elapsed": 4430,
     "status": "ok",
     "timestamp": 1604369984414,
     "user": {
      "displayName": "inove",
      "photoUrl": "https://lh3.googleusercontent.com/a-/AOh14GhXN9lpkKFLA5gp8tW9cD3CZ1yGa9DUy9HZOgZm=s64",
      "userId": "03494171924251581304"
     },
     "user_tz": 180
    },
    "id": "ZRw2jgPl4Xuc",
    "outputId": "b109de6e-b60f-449d-c4f9-75979e2ab762"
   },
   "outputs": [],
   "source": [
    "from sklearn.neighbors import KNeighborsClassifier\n",
    "from sklearn.metrics import accuracy_score\n",
    "\n",
    "K_MAX = 20\n",
    "mean_acc = np.zeros((K_MAX))\n",
    "\n",
    "for i in range(K_MAX):\n",
    "    # Entrenar el modelo\n",
    "    clf = KNeighborsClassifier(n_neighbors=(i+1)).fit(X_train,y_train)\n",
    "\n",
    "    # Prediccion\n",
    "    y_hat = clf.predict(X_test)   \n",
    "\n",
    "    # Evaluar el modelo\n",
    "    mean_acc[i] = accuracy_score(y_test, y_hat)\n",
    "\n",
    "plt.plot(range(1, K_MAX+1), mean_acc,'darkBlue')\n",
    "plt.ylabel('Accuracy')\n",
    "plt.xlabel('K')\n",
    "plt.tight_layout()\n",
    "plt.show()\n",
    "\n",
    "print(f\"La mejor exactitud se obtuvo con {mean_acc.max():.2f} con K={mean_acc.argmax()+1}\")"
   ]
  },
  {
   "cell_type": "code",
   "execution_count": null,
   "metadata": {
    "executionInfo": {
     "elapsed": 4429,
     "status": "ok",
     "timestamp": 1604369984416,
     "user": {
      "displayName": "inove",
      "photoUrl": "https://lh3.googleusercontent.com/a-/AOh14GhXN9lpkKFLA5gp8tW9cD3CZ1yGa9DUy9HZOgZm=s64",
      "userId": "03494171924251581304"
     },
     "user_tz": 180
    },
    "id": "NL0_TMz7Em4o"
   },
   "outputs": [],
   "source": [
    "clf = KNeighborsClassifier(n_neighbors=13).fit(X_train,y_train)\n",
    "y_hat = clf.predict(X_test)   "
   ]
  },
  {
   "cell_type": "markdown",
   "metadata": {
    "id": "w3IfjUuI4XnD"
   },
   "source": [
    "# Validar modelo\n",
    "<img src=\"https://raw.githubusercontent.com/InoveAlumnos/dataset_analytics_python/master/images/Pipeline5.png\" width=\"1000\" align=\"middle\">"
   ]
  },
  {
   "cell_type": "code",
   "execution_count": null,
   "metadata": {
    "colab": {
     "base_uri": "https://localhost:8080/"
    },
    "executionInfo": {
     "elapsed": 4420,
     "status": "ok",
     "timestamp": 1604369984418,
     "user": {
      "displayName": "inove",
      "photoUrl": "https://lh3.googleusercontent.com/a-/AOh14GhXN9lpkKFLA5gp8tW9cD3CZ1yGa9DUy9HZOgZm=s64",
      "userId": "03494171924251581304"
     },
     "user_tz": 180
    },
    "id": "tzBGdQS67eAq",
    "outputId": "6499fed6-a92f-464f-a8c5-8e26c6dd6bc9"
   },
   "outputs": [],
   "source": [
    "# Calcular la exactitud (accuracy)\n",
    "from sklearn.metrics import accuracy_score\n",
    "accuracy_score(y_test, y_hat_base, normalize=True)"
   ]
  },
  {
   "cell_type": "code",
   "execution_count": null,
   "metadata": {
    "colab": {
     "base_uri": "https://localhost:8080/"
    },
    "executionInfo": {
     "elapsed": 4410,
     "status": "ok",
     "timestamp": 1604369984419,
     "user": {
      "displayName": "inove",
      "photoUrl": "https://lh3.googleusercontent.com/a-/AOh14GhXN9lpkKFLA5gp8tW9cD3CZ1yGa9DUy9HZOgZm=s64",
      "userId": "03494171924251581304"
     },
     "user_tz": 180
    },
    "id": "CMKONtv55zL8",
    "outputId": "51c2ac26-243c-4bca-c3f2-dd275e3fd74d"
   },
   "outputs": [],
   "source": [
    "# Calcular la exactitud (accuracy)\n",
    "from sklearn.metrics import accuracy_score\n",
    "accuracy_score(y_test, y_hat, normalize=True)"
   ]
  },
  {
   "cell_type": "code",
   "execution_count": null,
   "metadata": {
    "colab": {
     "base_uri": "https://localhost:8080/",
     "height": 279
    },
    "executionInfo": {
     "elapsed": 4399,
     "status": "ok",
     "timestamp": 1604369984420,
     "user": {
      "displayName": "inove",
      "photoUrl": "https://lh3.googleusercontent.com/a-/AOh14GhXN9lpkKFLA5gp8tW9cD3CZ1yGa9DUy9HZOgZm=s64",
      "userId": "03494171924251581304"
     },
     "user_tz": 180
    },
    "id": "TeLeYLYz6ZhO",
    "outputId": "76085b03-8802-404a-8e87-5acc86d3669f"
   },
   "outputs": [],
   "source": [
    "from sklearn.metrics import confusion_matrix, ConfusionMatrixDisplay\n",
    "cm = confusion_matrix(y_test, y_hat)\n",
    "cmd = ConfusionMatrixDisplay(cm, display_labels=clf.classes_)\n",
    "cmd.plot(cmap=plt.cm.Blues)\n",
    "plt.show()"
   ]
  },
  {
   "cell_type": "markdown",
   "metadata": {
    "id": "9dZxGbjG96jR"
   },
   "source": [
    "# Utilizar modelo\n",
    "<img src=\"https://raw.githubusercontent.com/InoveAlumnos/dataset_analytics_python/master/images/Pipeline6.png\" width=\"1000\" align=\"middle\">"
   ]
  },
  {
   "cell_type": "code",
   "execution_count": null,
   "metadata": {
    "executionInfo": {
     "elapsed": 4397,
     "status": "ok",
     "timestamp": 1604369984421,
     "user": {
      "displayName": "inove",
      "photoUrl": "https://lh3.googleusercontent.com/a-/AOh14GhXN9lpkKFLA5gp8tW9cD3CZ1yGa9DUy9HZOgZm=s64",
      "userId": "03494171924251581304"
     },
     "user_tz": 180
    },
    "id": "6euFUIFDRbmP"
   },
   "outputs": [],
   "source": [
    "# Supongamos que deseamos ver a que categoría pertenecemos\n",
    "# dado los siguientes datos\n",
    "age = 25\n",
    "tenure = 4\n",
    "income = df['income'].mean() # ganamos el promedio\n",
    "marital = 0 # no estamos casados\n",
    "retire = 0 # no estamos retirados\n",
    "gender = 1 # solo algun genero"
   ]
  },
  {
   "cell_type": "code",
   "execution_count": null,
   "metadata": {
    "colab": {
     "base_uri": "https://localhost:8080/"
    },
    "executionInfo": {
     "elapsed": 4388,
     "status": "ok",
     "timestamp": 1604369984423,
     "user": {
      "displayName": "inove",
      "photoUrl": "https://lh3.googleusercontent.com/a-/AOh14GhXN9lpkKFLA5gp8tW9cD3CZ1yGa9DUy9HZOgZm=s64",
      "userId": "03494171924251581304"
     },
     "user_tz": 180
    },
    "id": "e01cqkzTS8n3",
    "outputId": "6ce031f9-85e7-427d-dd74-d4ed78456926"
   },
   "outputs": [],
   "source": [
    "# El scaler espera como entrada una matriz (filas y columnas)\n",
    "# Por eso el doble corchete\n",
    "age_numpy = np.array([[age]])\n",
    "# Utilizamos float para convertir la matriz que retorna el scaler\n",
    "# a un número\n",
    "age_norm = float(age_scaler.transform(age_numpy))\n",
    "tenure_norm = float(tenure_scaler.transform(np.array([[tenure]])))\n",
    "income_norm = float(tenure_scaler.transform(np.array([[income]])))\n",
    "# El sistema espera como entrada \"X\" en este caso una sola fila pero varias\n",
    "# columnas, por eso el reshape(1, -1) donde el \"-1\" significa \"varias\"\n",
    "# (el sistema determina cuantas)\n",
    "X_prueba = np.array([age_norm, tenure_norm, income_norm, marital, retire, gender]).reshape(1, -1)\n",
    "print('Shape:', X_prueba.shape)\n",
    "print('Valores:\\n', X_prueba)"
   ]
  },
  {
   "cell_type": "code",
   "execution_count": null,
   "metadata": {
    "colab": {
     "base_uri": "https://localhost:8080/"
    },
    "executionInfo": {
     "elapsed": 927,
     "status": "ok",
     "timestamp": 1604369990775,
     "user": {
      "displayName": "inove",
      "photoUrl": "https://lh3.googleusercontent.com/a-/AOh14GhXN9lpkKFLA5gp8tW9cD3CZ1yGa9DUy9HZOgZm=s64",
      "userId": "03494171924251581304"
     },
     "user_tz": 180
    },
    "id": "IYimWR0FTwK-",
    "outputId": "2710a763-b26a-48e8-f3c2-8b59dc949292"
   },
   "outputs": [],
   "source": [
    "mi_categoria = clf.predict(X_prueba)\n",
    "mi_categoria"
   ]
  },
  {
   "cell_type": "markdown",
   "metadata": {
    "id": "h7yzVZcZ9-4m"
   },
   "source": [
    "# Conclusión\n",
    "<img src=\"https://raw.githubusercontent.com/InoveAlumnos/dataset_analytics_python/master/images/Pipeline7.png\" width=\"1000\" align=\"middle\">"
   ]
  },
  {
   "cell_type": "markdown",
   "metadata": {
    "id": "sWAReOgo-B7b"
   },
   "source": [
    "En este ejemplo se obtuvo muy poca performance, pero se pudo ver como comparar muchos modelos KNN con distintos \"K\" y a su vez como ingresar un dato nuevo para predecir una categoría. Se podría probar con otros clasificadores pero el problema radica en la falta de datos"
   ]
  }
 ],
 "metadata": {
  "colab": {
   "authorship_tag": "ABX9TyO6TfZKqlWCX79NtM6CdU64",
   "collapsed_sections": [],
   "name": "2_knn.ipynb",
   "provenance": [],
   "toc_visible": true
  },
  "kernelspec": {
   "display_name": "Python 3",
   "language": "python",
   "name": "python3"
  },
  "language_info": {
   "codemirror_mode": {
    "name": "ipython",
    "version": 3
   },
   "file_extension": ".py",
   "mimetype": "text/x-python",
   "name": "python",
   "nbconvert_exporter": "python",
   "pygments_lexer": "ipython3",
   "version": "3.7.0"
  }
 },
 "nbformat": 4,
 "nbformat_minor": 4
}
