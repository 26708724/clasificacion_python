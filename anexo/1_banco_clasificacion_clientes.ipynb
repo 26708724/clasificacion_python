{
  "nbformat": 4,
  "nbformat_minor": 0,
  "metadata": {
    "colab": {
      "name": "1_banco_clasificacion_clientes.ipynb",
      "provenance": [],
      "collapsed_sections": []
    },
    "kernelspec": {
      "name": "python3",
      "display_name": "Python 3"
    },
    "language_info": {
      "name": "python"
    }
  },
  "cells": [
    {
      "cell_type": "markdown",
      "metadata": {
        "id": "eXaemEBVVM7U"
      },
      "source": [
        "<a href=\"https://www.inove.com.ar\"><img src=\"https://raw.githubusercontent.com/InoveAlumnos/dataset_analytics_python/master/images/PA%20Banner.png\" width=\"1000\" align=\"center\"></a>\n",
        "\n",
        "\n",
        "# Desafio de clasificación binaria\n",
        "\n",
        "Desafio de reclutación<br>\n",
        "\n",
        "v1.1\n"
      ]
    },
    {
      "cell_type": "markdown",
      "metadata": {
        "id": "GP_2T69e7OPf"
      },
      "source": [
        "1. Dataset: Bank Marketing (with social/economic context)\n",
        "\n",
        "2. Fuente:\n",
        "   Created by: Sérgio Moro (ISCTE-IUL), Paulo Cortez (Univ. Minho) and Paulo Rita (ISCTE-IUL) @ 2014\n",
        "   \n",
        "3. Objetivo:\n",
        "   Realizar una clasificación binnaria que permita predecir si un cliente se suscribiría a un depósito a largo plazo (variable y).\n",
        "\n",
        "4. Cantidad de filas: 41188 para bank-additional-full.csv\n",
        "\n",
        "5. Cantidad de atributos: 20 + output attribute.\n",
        "\n",
        "7. Attribute information:\n",
        "\n",
        "   For more information, read [Moro et al., 2014]."
      ]
    },
    {
      "cell_type": "markdown",
      "metadata": {
        "id": "DmbCkIbO8g2N"
      },
      "source": [
        "Atributos (columnas):\n",
        "\n",
        "- Datos relacionados con el cliente:\n",
        "   1 - age (numeric)\n",
        "   2 - job : type of job (categorical: \"admin.\",\"blue-collar\",\"entrepreneur\",\"housemaid\",\"management\",\"retired\",\"self-employed\",\"services\",\"student\",\"technician\",\"unemployed\",\"unknown\")\n",
        "   3 - marital : marital status (categorical: \"divorced\",\"married\",\"single\",\"unknown\"; note: \"divorced\" means divorced or widowed)\n",
        "   4 - education (categorical: \"basic.4y\",\"basic.6y\",\"basic.9y\",\"high.school\",\"illiterate\",\"professional.course\",\"university.degree\",\"unknown\")\n",
        "   5 - default: has credit in default? (categorical: \"no\",\"yes\",\"unknown\")\n",
        "   6 - housing: has housing loan? (categorical: \"no\",\"yes\",\"unknown\")\n",
        "   7 - loan: has personal loan? (categorical: \"no\",\"yes\",\"unknown\")\n",
        "\n",
        "- Datos relacionados con el último contacto realizado:\n",
        "   8 - contact: contact communication type (categorical: \"cellular\",\"telephone\") \n",
        "   9 - month: last contact month of year (categorical: \"jan\", \"feb\", \"mar\", ..., \"nov\", \"dec\")\n",
        "  10 - day_of_week: last contact day of the week (categorical: \"mon\",\"tue\",\"wed\",\"thu\",\"fri\")\n",
        "  11 - duration: last contact duration, in seconds (numeric). Important note:  this attribute highly affects the output target (e.g., if duration=0 then y=\"no\"). Yet, the duration is not known before a call is performed. Also, after the end of the call y is obviously known. Thus, this input should only be included for benchmark purposes and should be discarded if the intention is to have a realistic predictive model.\n",
        "- Otros datos:\n",
        "  12 - campaign: number of contacts performed during this campaign and for this client (numeric, includes last contact)\n",
        "  13 - pdays: number of days that passed by after the client was last contacted from a previous campaign (numeric; 999 means client was not previously contacted)\n",
        "  14 - previous: number of contacts performed before this campaign and for this client (numeric)\n",
        "  15 - poutcome: outcome of the previous marketing campaign (categorical: \"failure\",\"nonexistent\",\"success\")\n",
        "\n",
        "- Datos contextuales sociales y económicos\n",
        "  16 - emp.var.rate: employment variation rate - quarterly indicator (numeric)\n",
        "  17 - cons.price.idx: consumer price index - monthly indicator (numeric)     \n",
        "  18 - cons.conf.idx: consumer confidence index - monthly indicator (numeric)     \n",
        "  19 - euribor3m: euribor 3 month rate - daily indicator (numeric)\n",
        "  20 - nr.employed: number of employees - quarterly indicator (numeric)\n",
        "\n",
        "  Output variable (desired target):\n",
        "  21 - y - has the client subscribed a term deposit? (binary: \"yes\",\"no\")\n",
        "\n",
        "- Datos faltantes (missing attribute values)\n",
        "Hay muchos datos faltantes en algunas de las columnas categóricas, encodeadoscomo \"unknown\". Estos valores puede ser tratadas como clase \"unknown\" para identificar a los faltantes o borrarlos (imputación)."
      ]
    },
    {
      "cell_type": "markdown",
      "metadata": {
        "id": "9UVLHWbbAYWV"
      },
      "source": [
        "Kaggle Dataset similar pero de 21 columnas: [Dataset source](https://www.kaggle.com/jeevanrh/drug200csv)"
      ]
    },
    {
      "cell_type": "markdown",
      "metadata": {
        "id": "KTNb0pia99DF"
      },
      "source": [
        "# Recolectar datos\n",
        "<img src=\"https://raw.githubusercontent.com/InoveAlumnos/dataset_analytics_python/master/images/Pipeline1.png\" width=\"1000\" align=\"middle\">"
      ]
    },
    {
      "cell_type": "code",
      "metadata": {
        "id": "rfRjmnZx9rCx"
      },
      "source": [
        "import os\n",
        "import platform\n",
        "\n",
        "if os.access('bank-additional-full.txt', os.F_OK) is False:\n",
        "    if platform.system() == 'Windows':\n",
        "        !curl https://github.com/InoveAlumnos/dataset_analytics_python/raw/master/bank-additional-full.txt > bank-additional-full.txt\n",
        "    else:\n",
        "        !wget bank-additional-full https://github.com/InoveAlumnos/dataset_analytics_python/raw/master/bank-additional-full.txt"
      ],
      "execution_count": null,
      "outputs": []
    },
    {
      "cell_type": "code",
      "metadata": {
        "id": "cf4IvdEpUuYo"
      },
      "source": [
        "import pandas as pd\n",
        "df = pd.read_csv(\"bank-additional-full.txt\", sep=\";\")\n",
        "df.head()"
      ],
      "execution_count": null,
      "outputs": []
    }
  ]
}